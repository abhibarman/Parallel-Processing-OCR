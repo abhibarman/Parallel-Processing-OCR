{
  "nbformat": 4,
  "nbformat_minor": 0,
  "metadata": {
    "colab": {
      "provenance": []
    },
    "kernelspec": {
      "name": "python3",
      "display_name": "Python 3"
    },
    "language_info": {
      "name": "python"
    }
  },
  "cells": [
    {
      "cell_type": "markdown",
      "source": [
        "Parallel processing can increase the number of tasks done by your program which reduces the overall processing time."
      ],
      "metadata": {
        "id": "rrjqeDKTba8x"
      }
    },
    {
      "cell_type": "markdown",
      "source": [
        "- For parallelism, the main problem is divided into sub-problems where each su-problem is independent of each other.\n",
        "\n",
        "- Ways to Handle parallel programs \n",
        "    1. Shared Memory: Sub-units share the same memory and no need to handle communication.\n",
        "    2. Distributed Memory: Each process is totally seperate & has own memory.Communication needs to be handled explicitly."
      ],
      "metadata": {
        "id": "sktfujKDbgGr"
      }
    },
    {
      "cell_type": "markdown",
      "source": [
        "**Threads** are one of the ways to achieve parallelism. "
      ],
      "metadata": {
        "id": "ohHR1k_-cmHf"
      }
    },
    {
      "cell_type": "markdown",
      "source": [
        "**Global Interpreter lock** allows only one python instruction to be executed at a time."
      ],
      "metadata": {
        "id": "CLFvnBJ4c5Nq"
      }
    },
    {
      "cell_type": "markdown",
      "source": [
        "GIL limitation can be completely avoided by using processes instead of thread. Using processes have few disadvantages such as less efficient inter-process communication than shared memory, but it is more flexible and explicit."
      ],
      "metadata": {
        "id": "0D9dtMNBc5Up"
      }
    },
    {
      "cell_type": "markdown",
      "source": [
        "**Multiprocessing for parallel processing**\n",
        "\n",
        "Using the standard **multiprocessing** module, we can efficiently parallelize simple tasks by creating child processes. This module provides an easy-to-use interface and contains a set of utilities to handle task submission and synchronization.\n",
        "\n"
      ],
      "metadata": {
        "id": "NchUhqcQdaD4"
      }
    },
    {
      "cell_type": "markdown",
      "source": [
        "**Process and Pool Class**"
      ],
      "metadata": {
        "id": "6GZpKhwedjL9"
      }
    },
    {
      "cell_type": "markdown",
      "source": [
        "**Process**\n",
        "\n",
        "By subclassing ***multiprocessing.process***, you can create a process that runs independently."
      ],
      "metadata": {
        "id": "OK_wCX6fdsP6"
      }
    },
    {
      "cell_type": "code",
      "source": [
        "import multiprocessing\n",
        "import time"
      ],
      "metadata": {
        "id": "YbHuC3Xebbnj"
      },
      "execution_count": 1,
      "outputs": []
    },
    {
      "cell_type": "code",
      "source": [
        "class OCRParallel(multiprocessing.Process):\n",
        "  def __init__(self, id):\n",
        "    super(OCRParallel, self).__init__()\n",
        "    self.id = id\n",
        "\n",
        "  def run(self):\n",
        "    print('Invoked run()')\n",
        "    time.sleep(1)\n",
        "    print(f'Process ID is {self.id}')"
      ],
      "metadata": {
        "id": "Wdf5oZpbd_Gl"
      },
      "execution_count": 27,
      "outputs": []
    },
    {
      "cell_type": "code",
      "source": [
        "task = OCRParallel(100)\n",
        "task.start()\n",
        "task.join()"
      ],
      "metadata": {
        "colab": {
          "base_uri": "https://localhost:8080/"
        },
        "id": "jwBHj7RuedTz",
        "outputId": "0a534714-428e-44cc-fcf0-e26eb4c826da"
      },
      "execution_count": 28,
      "outputs": [
        {
          "output_type": "stream",
          "name": "stdout",
          "text": [
            "Invoked run()\n",
            "Process ID is 100\n"
          ]
        }
      ]
    },
    {
      "cell_type": "code",
      "source": [
        "p = OCRParallel(0)\n",
        "p.start()\n",
        "p.join()\n",
        "p = OCRParallel(1)\n",
        "p.start()\n",
        "p.join()"
      ],
      "metadata": {
        "colab": {
          "base_uri": "https://localhost:8080/"
        },
        "id": "NW9cKyYveokO",
        "outputId": "e7bd413a-a813-4736-88f5-fad9b6fa71b4"
      },
      "execution_count": 29,
      "outputs": [
        {
          "output_type": "stream",
          "name": "stdout",
          "text": [
            "Invoked run()\n",
            "Process ID is 0\n",
            "Invoked run()\n",
            "Process ID is 1\n"
          ]
        }
      ]
    },
    {
      "cell_type": "markdown",
      "source": [
        "**Pool class**\n",
        "\n",
        "Pool class can be used for parallel execution of a function for different input data. The multiprocessing.Pool() class spawns a set of processes called workers and can submit tasks using the methods ***apply/apply_async*** and ***map/map_async***. For parallel mapping, you should first initialize a multiprocessing.Pool() object. The first argument is the number of workers; if not given, that number will be equal to the number of cores in the system."
      ],
      "metadata": {
        "id": "22jJvZtCgOGH"
      }
    },
    {
      "cell_type": "code",
      "source": [],
      "metadata": {
        "id": "Ii24RnM8oZ6H"
      },
      "execution_count": null,
      "outputs": []
    },
    {
      "cell_type": "code",
      "source": [
        "pool = multiprocessing.Pool()# creates processes equal to the number of cores\n",
        "pool = multiprocessing.Pool(processes = 2)"
      ],
      "metadata": {
        "id": "kUSpSUqhfd9r"
      },
      "execution_count": 34,
      "outputs": []
    },
    {
      "cell_type": "code",
      "source": [
        "def square(x):\n",
        "  return x*x"
      ],
      "metadata": {
        "id": "50ZAbS6bgutF"
      },
      "execution_count": 35,
      "outputs": []
    },
    {
      "cell_type": "code",
      "source": [
        "res = pool.map(square, [2,3,4,6])\n",
        "res_async = pool.map_async(square, [2,3,4,6])"
      ],
      "metadata": {
        "id": "9MCENYhFgymN"
      },
      "execution_count": 44,
      "outputs": []
    },
    {
      "cell_type": "code",
      "source": [
        "res"
      ],
      "metadata": {
        "colab": {
          "base_uri": "https://localhost:8080/"
        },
        "id": "VsZFxGVmiKRX",
        "outputId": "416411e9-abf8-478f-c1ee-99f06d349bb7"
      },
      "execution_count": 47,
      "outputs": [
        {
          "output_type": "execute_result",
          "data": {
            "text/plain": [
              "[4, 9, 16, 36]"
            ]
          },
          "metadata": {},
          "execution_count": 47
        }
      ]
    },
    {
      "cell_type": "code",
      "source": [
        "res_async.get()"
      ],
      "metadata": {
        "colab": {
          "base_uri": "https://localhost:8080/"
        },
        "id": "ygWHwhXFg6TY",
        "outputId": "7d2856c5-bf97-401b-cc3a-abb176323c87"
      },
      "execution_count": 46,
      "outputs": [
        {
          "output_type": "execute_result",
          "data": {
            "text/plain": [
              "[4, 9, 16, 36]"
            ]
          },
          "metadata": {},
          "execution_count": 46
        }
      ]
    },
    {
      "cell_type": "markdown",
      "source": [
        "***Pool.apply_async*** assigns a task consisting of a single function to one of the workers. It takes the function and its arguments and returns an AsyncResult object."
      ],
      "metadata": {
        "id": "pyB68x9fiaem"
      }
    },
    {
      "cell_type": "code",
      "source": [
        "res_async = [pool.apply_async(square,args= (i,) ) for i in range(100)]\n",
        "res = [r.get() for r in res_async]\n",
        "print(res)"
      ],
      "metadata": {
        "colab": {
          "base_uri": "https://localhost:8080/"
        },
        "id": "XBorxslQh0w3",
        "outputId": "d1964db2-40a0-49da-e0d6-92bc9056af9a"
      },
      "execution_count": 52,
      "outputs": [
        {
          "output_type": "stream",
          "name": "stdout",
          "text": [
            "[0, 1, 4, 9, 16, 25, 36, 49, 64, 81, 100, 121, 144, 169, 196, 225, 256, 289, 324, 361, 400, 441, 484, 529, 576, 625, 676, 729, 784, 841, 900, 961, 1024, 1089, 1156, 1225, 1296, 1369, 1444, 1521, 1600, 1681, 1764, 1849, 1936, 2025, 2116, 2209, 2304, 2401, 2500, 2601, 2704, 2809, 2916, 3025, 3136, 3249, 3364, 3481, 3600, 3721, 3844, 3969, 4096, 4225, 4356, 4489, 4624, 4761, 4900, 5041, 5184, 5329, 5476, 5625, 5776, 5929, 6084, 6241, 6400, 6561, 6724, 6889, 7056, 7225, 7396, 7569, 7744, 7921, 8100, 8281, 8464, 8649, 8836, 9025, 9216, 9409, 9604, 9801]\n"
          ]
        }
      ]
    },
    {
      "cell_type": "code",
      "source": [
        "99*99"
      ],
      "metadata": {
        "colab": {
          "base_uri": "https://localhost:8080/"
        },
        "id": "qNIkr0g9iv-t",
        "outputId": "760ea7af-9285-440b-ae07-197d5e79f4f0"
      },
      "execution_count": 53,
      "outputs": [
        {
          "output_type": "execute_result",
          "data": {
            "text/plain": [
              "9801"
            ]
          },
          "metadata": {},
          "execution_count": 53
        }
      ]
    },
    {
      "cell_type": "code",
      "source": [],
      "metadata": {
        "id": "jJtlRRWrjdkh"
      },
      "execution_count": null,
      "outputs": []
    }
  ]
}